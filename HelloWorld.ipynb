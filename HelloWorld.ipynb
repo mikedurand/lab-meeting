{
 "cells": [
  {
   "cell_type": "code",
   "execution_count": 2,
   "metadata": {},
   "outputs": [
    {
     "name": "stdout",
     "output_type": "stream",
     "text": [
      "Geeksforgeeks is fantastic!\n"
     ]
    }
   ],
   "source": [
    "# test after following these instructions: \n",
    "# https://www.geeksforgeeks.org/how-to-work-with-julia-on-jupyter-notebook/\n",
    "println(\"Geeksforgeeks is fantastic!\")"
   ]
  }
 ],
 "metadata": {
  "kernelspec": {
   "display_name": "Julia 1.6.2",
   "language": "julia",
   "name": "julia-1.6"
  },
  "language_info": {
   "file_extension": ".jl",
   "mimetype": "application/julia",
   "name": "julia",
   "version": "1.6.2"
  }
 },
 "nbformat": 4,
 "nbformat_minor": 4
}
