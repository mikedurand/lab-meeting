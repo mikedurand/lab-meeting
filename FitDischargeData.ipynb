{
 "cells": [
  {
   "cell_type": "code",
   "execution_count": null,
   "metadata": {},
   "outputs": [],
   "source": [
    "#this script computes flow law parameters for river discharge\n",
    "# by Mike, October 6, 2021"
   ]
  },
  {
   "cell_type": "code",
   "execution_count": 4,
   "metadata": {},
   "outputs": [],
   "source": [
    "# the \"using\" function pulls in the Julia libraries we need\n",
    "using Pkg\n",
    "using JuMP\n",
    "using Ipopt\n",
    "using Plots"
   ]
  },
  {
   "cell_type": "code",
   "execution_count": 10,
   "metadata": {},
   "outputs": [
    {
     "data": {
      "text/plain": [
       "1×12 Matrix{Float64}:\n",
       " 161.406  46.4396  27.8355  30.299  …  47.2891  51.2535  30.5822  7.67387"
      ]
     },
     "execution_count": 10,
     "metadata": {},
     "output_type": "execute_result"
    }
   ],
   "source": [
    "# these are data derived from commercial high-resolution imagery for the Meade on the North Slope of Alaska\n",
    "H=[7.328456\t6.565949\t5.961361\t6.251553\t5.878249\t5.567565\t6.007122\t5.417301\t6.191109\t6.521737\t6.039580\t5.830678]\t\n",
    "W=[177.259919\t155.598992\t130.974720\t141.695858\t121.505408\t103.903389\t127.263053\t86.457151\t138.305701\t147.369275\t126.712752\t126.784003\t]\n",
    "S=10e-5 #we're assuming slope is constant in time\n",
    "\n",
    "#this is discharge at streamgage corresponding to data above https://waterdata.usgs.gov/nwis/inventory/?site_no=15803000\n",
    "Q=[161.406026\t46.439628\t27.835460\t30.299026\t10.760402\t5.578419\t35.112890\t1.514951\t47.289134\t51.253492\t30.582194\t7.673865\t]"
   ]
  },
  {
   "cell_type": "code",
   "execution_count": 14,
   "metadata": {},
   "outputs": [
    {
     "data": {
      "text/latex": [
       "$$ H0 $$"
      ],
      "text/plain": [
       "H0"
      ]
     },
     "execution_count": 14,
     "metadata": {},
     "output_type": "execute_result"
    }
   ],
   "source": [
    "# we will fit this form of Manning's equation:\n",
    "# Q=1/n* (H-H0)^(5/3) W S^(1/2)\n",
    "#    where n is friction coefficient\n",
    "#          H is observed water surface elevation\n",
    "#          H0 is an offset, notionally the river bathymetric elevation\n",
    "#          W is river top width\n",
    "#          S is river slope\n",
    "\n",
    "#parameter bounds\n",
    "nmin=0.01\n",
    "H0min=minimum(H)+0.1\n",
    "\n",
    "# there are two parameters to estimate: n and H0\n",
    "m = Model(optimizer_with_attributes(Ipopt.Optimizer))\n",
    "@variable(m,n>=nmin)\n",
    "@variable(m,H0>=H0min)\n",
    "#@objective(m,Min,a.* x.^2 .+ b.*x .+c) <-- we'll see if we can do this part together in  meeting!"
   ]
  },
  {
   "cell_type": "code",
   "execution_count": null,
   "metadata": {},
   "outputs": [],
   "source": []
  }
 ],
 "metadata": {
  "kernelspec": {
   "display_name": "Julia 1.6.2",
   "language": "julia",
   "name": "julia-1.6"
  },
  "language_info": {
   "file_extension": ".jl",
   "mimetype": "application/julia",
   "name": "julia",
   "version": "1.6.2"
  }
 },
 "nbformat": 4,
 "nbformat_minor": 4
}
