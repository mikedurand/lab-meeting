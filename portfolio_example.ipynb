{
 "cells": [
  {
   "cell_type": "code",
   "execution_count": 1,
   "metadata": {},
   "outputs": [],
   "source": [
    "# script to solve example portfolio problem from https://web.mit.edu/15.053/www/AMP-Chapter-13.pdf"
   ]
  },
  {
   "cell_type": "code",
   "execution_count": 2,
   "metadata": {},
   "outputs": [],
   "source": [
    "# the \"using\" function pulls in the Julia libraries we need\n",
    "using Pkg\n",
    "using JuMP\n",
    "using Ipopt\n",
    "using Plots"
   ]
  },
  {
   "cell_type": "code",
   "execution_count": 3,
   "metadata": {},
   "outputs": [
    {
     "name": "stdout",
     "output_type": "stream",
     "text": [
      "\n",
      "******************************************************************************\n",
      "This program contains Ipopt, a library for large-scale nonlinear optimization.\n",
      " Ipopt is released as open source code under the Eclipse Public License (EPL).\n",
      "         For more information visit https://github.com/coin-or/Ipopt\n",
      "******************************************************************************\n",
      "\n",
      "This is Ipopt version 3.13.4, running with linear solver mumps.\n",
      "NOTE: Other linear solvers might be more efficient (see Ipopt documentation).\n",
      "\n",
      "Number of nonzeros in equality constraint Jacobian...:        0\n",
      "Number of nonzeros in inequality constraint Jacobian.:        2\n",
      "Number of nonzeros in Lagrangian Hessian.............:        0\n",
      "\n",
      "Total number of variables............................:        2\n",
      "                     variables with only lower bounds:        2\n",
      "                variables with lower and upper bounds:        0\n",
      "                     variables with only upper bounds:        0\n",
      "Total number of equality constraints.................:        0\n",
      "Total number of inequality constraints...............:        1\n",
      "        inequality constraints with only lower bounds:        0\n",
      "   inequality constraints with lower and upper bounds:        0\n",
      "        inequality constraints with only upper bounds:        1\n",
      "\n",
      "iter    objective    inf_pr   inf_du lg(mu)  ||d||  lg(rg) alpha_du alpha_pr  ls\n",
      "   0  3.5999964e-01 0.00e+00 1.20e+01  -1.0 0.00e+00    -  0.00e+00 0.00e+00   0\n",
      "   1  1.0472480e+01 0.00e+00 1.99e+01  -1.0 5.57e-01    -  4.74e-02 1.00e+00f  1\n",
      "   2  9.8407393e+01 0.00e+00 1.89e+01  -1.0 8.29e+01    -  4.17e-03 5.39e-02f  1\n",
      "   3  9.9964861e+01 0.00e+00 1.79e+01  -1.0 3.74e+00    -  1.00e+00 5.73e-02f  1\n",
      "   4  9.9800619e+01 0.00e+00 1.00e-06  -1.0 2.29e-02    -  1.00e+00 1.00e+00f  1\n",
      "   5  9.9993776e+01 0.00e+00 2.83e-08  -2.5 2.89e-02    -  1.00e+00 1.00e+00f  1\n",
      "   6  9.9999700e+01 0.00e+00 1.50e-09  -3.8 9.26e-04    -  1.00e+00 1.00e+00f  1\n",
      "   7  9.9999997e+01 0.00e+00 1.84e-11  -5.7 4.47e-05    -  1.00e+00 1.00e+00f  1\n",
      "   8  1.0000000e+02 0.00e+00 2.62e-14  -8.6 5.53e-07    -  1.00e+00 1.00e+00f  1\n",
      "\n",
      "Number of Iterations....: 8\n",
      "\n",
      "                                   (scaled)                 (unscaled)\n",
      "Objective...............:  -1.0000000103498800e+02    1.0000000103498800e+02\n",
      "Dual infeasibility......:   2.6162392403929484e-14    2.6162392403929484e-14\n",
      "Constraint violation....:   0.0000000000000000e+00    0.0000000000000000e+00\n",
      "Complementarity.........:   2.5060732627847567e-09   -2.5060732627847567e-09\n",
      "Overall NLP error.......:   2.5060732627847567e-09    2.6162392403929484e-14\n",
      "\n",
      "\n",
      "Number of objective function evaluations             = 9\n",
      "Number of objective gradient evaluations             = 9\n",
      "Number of equality constraint evaluations            = 0\n",
      "Number of inequality constraint evaluations          = 9\n",
      "Number of equality constraint Jacobian evaluations   = 0\n",
      "Number of inequality constraint Jacobian evaluations = 1\n",
      "Number of Lagrangian Hessian evaluations             = 1\n",
      "Total CPU secs in IPOPT (w/o function evaluations)   =      0.266\n",
      "Total CPU secs in NLP function evaluations           =      0.110\n",
      "\n",
      "EXIT: Optimal Solution Found.\n"
     ]
    }
   ],
   "source": [
    "# try solving the system without any risk, which means we should expect [...]\n",
    "m1 = Model(optimizer_with_attributes(Ipopt.Optimizer))\n",
    "@variable(m1,x1>=0)\n",
    "@variable(m1,x2>=0)\n",
    "@objective(m1,Max,20*x1 + 16*x2)\n",
    "@constraint(m1,x1+x2<=5)\n",
    "optimize!(m1)"
   ]
  },
  {
   "cell_type": "code",
   "execution_count": 4,
   "metadata": {},
   "outputs": [
    {
     "name": "stdout",
     "output_type": "stream",
     "text": [
      "5.000000059248185\n",
      "0.0\n"
     ]
    }
   ],
   "source": [
    "x1_star=JuMP.value.(x1)\n",
    "x2_star=JuMP.value.(x2)\n",
    "println(x1_star)\n",
    "println(x2_star)"
   ]
  },
  {
   "cell_type": "code",
   "execution_count": 13,
   "metadata": {},
   "outputs": [
    {
     "name": "stdout",
     "output_type": "stream",
     "text": [
      "This is Ipopt version 3.13.4, running with linear solver mumps.\n",
      "NOTE: Other linear solvers might be more efficient (see Ipopt documentation).\n",
      "\n",
      "Number of nonzeros in equality constraint Jacobian...:        0\n",
      "Number of nonzeros in inequality constraint Jacobian.:        2\n",
      "Number of nonzeros in Lagrangian Hessian.............:        3\n",
      "\n",
      "Total number of variables............................:        2\n",
      "                     variables with only lower bounds:        2\n",
      "                variables with lower and upper bounds:        0\n",
      "                     variables with only upper bounds:        0\n",
      "Total number of equality constraints.................:        0\n",
      "Total number of inequality constraints...............:        1\n",
      "        inequality constraints with only lower bounds:        0\n",
      "   inequality constraints with lower and upper bounds:        0\n",
      "        inequality constraints with only upper bounds:        1\n",
      "\n",
      "iter    objective    inf_pr   inf_du lg(mu)  ||d||  lg(rg) alpha_du alpha_pr  ls\n",
      "   0  3.5929964e-01 0.00e+00 1.20e+01  -1.0 0.00e+00    -  0.00e+00 0.00e+00   0\n",
      "   1  9.2575977e+00 0.00e+00 1.77e+01  -1.0 5.19e-01    -  5.31e-02 1.00e+00f  1\n",
      "   2  4.5878083e+01 0.00e+00 1.10e+00  -1.0 4.19e+00    -  1.45e-01 1.00e+00f  1\n",
      "   3  4.6260884e+01 0.00e+00 1.00e-06  -1.0 3.48e-01    -  1.00e+00 1.00e+00f  1\n",
      "   4  4.6315365e+01 0.00e+00 2.83e-08  -2.5 6.36e-02    -  1.00e+00 1.00e+00f  1\n",
      "   5  4.6331484e+01 0.00e+00 1.50e-09  -3.8 2.26e-02    -  1.00e+00 1.00e+00f  1\n",
      "   6  4.6333162e+01 0.00e+00 1.50e-09  -3.8 2.50e-03    -  1.00e+00 1.00e+00f  1\n",
      "   7  4.6333331e+01 0.00e+00 1.84e-11  -5.7 2.53e-04    -  1.00e+00 1.00e+00f  1\n",
      "   8  4.6333333e+01 0.00e+00 2.51e-14  -8.6 3.11e-06    -  1.00e+00 1.00e+00f  1\n",
      "\n",
      "Number of Iterations....: 8\n",
      "\n",
      "                                   (scaled)                 (unscaled)\n",
      "Objective...............:  -4.6333333364126339e+01    4.6333333364126339e+01\n",
      "Dual infeasibility......:   2.5091040356528538e-14    2.5091040356528538e-14\n",
      "Constraint violation....:   0.0000000000000000e+00    0.0000000000000000e+00\n",
      "Complementarity.........:   2.5403146345097370e-09   -2.5403146345097370e-09\n",
      "Overall NLP error.......:   2.5403146345097370e-09    2.5091040356528538e-14\n",
      "\n",
      "\n",
      "Number of objective function evaluations             = 9\n",
      "Number of objective gradient evaluations             = 9\n",
      "Number of equality constraint evaluations            = 0\n",
      "Number of inequality constraint evaluations          = 9\n",
      "Number of equality constraint Jacobian evaluations   = 0\n",
      "Number of inequality constraint Jacobian evaluations = 1\n",
      "Number of Lagrangian Hessian evaluations             = 1\n",
      "Total CPU secs in IPOPT (w/o function evaluations)   =      0.006\n",
      "Total CPU secs in NLP function evaluations           =      0.000\n",
      "\n",
      "EXIT: Optimal Solution Found.\n",
      "2.333333348752249\n",
      "2.666666697437278\n"
     ]
    }
   ],
   "source": [
    "#now let's add in the risk!\n",
    "theta=1\n",
    "m2 = Model(optimizer_with_attributes(Ipopt.Optimizer))\n",
    "@variable(m2,x1>=0)\n",
    "@variable(m2,x2>=0)\n",
    "@objective(m2,Max,20*x1 + 16*x2 - theta * (2*x1^2+x2^2+(x1+x2)^2 ) )\n",
    "@constraint(m2,x1+x2<=5)\n",
    "optimize!(m2)\n",
    "\n",
    "x1_star=JuMP.value.(x1)\n",
    "x2_star=JuMP.value.(x2)\n",
    "println(x1_star)\n",
    "println(x2_star)"
   ]
  },
  {
   "cell_type": "code",
   "execution_count": null,
   "metadata": {},
   "outputs": [],
   "source": []
  }
 ],
 "metadata": {
  "kernelspec": {
   "display_name": "Julia 1.6.2",
   "language": "julia",
   "name": "julia-1.6"
  },
  "language_info": {
   "file_extension": ".jl",
   "mimetype": "application/julia",
   "name": "julia",
   "version": "1.6.2"
  }
 },
 "nbformat": 4,
 "nbformat_minor": 4
}
