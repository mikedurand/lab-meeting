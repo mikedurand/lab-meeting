{
 "cells": [
  {
   "cell_type": "code",
   "execution_count": 1,
   "metadata": {},
   "outputs": [],
   "source": [
    "# script to solve parabola example with known solution to test solver"
   ]
  },
  {
   "cell_type": "code",
   "execution_count": 2,
   "metadata": {},
   "outputs": [],
   "source": [
    "# the \"using\" function pulls in the Julia libraries we need\n",
    "using Pkg\n",
    "using JuMP\n",
    "using Ipopt\n",
    "using Plots"
   ]
  },
  {
   "cell_type": "code",
   "execution_count": 3,
   "metadata": {},
   "outputs": [],
   "source": [
    "# if the lines just shown produce errors like \"ArgumentError: Package JuMP not found in current path:\"\n",
    "# .... then you just need to install the three packages list up there. you only need to do this once. these \n",
    "# lines take a while to run, so comment these out (by adding a \"#\" to the front of the line) once done\n",
    "\n",
    "# Pkg.add(\"JuMP\")\n",
    "# Pkg.add(\"Ipopt\" \n",
    "# Pkg.add(\"Plots\")"
   ]
  },
  {
   "cell_type": "code",
   "execution_count": 4,
   "metadata": {},
   "outputs": [],
   "source": [
    "# before we tackle the slightly trickier problem in the portfolio, let's verify that the optimization works for a \n",
    "# test case where we know the answer\n",
    "a=1\n",
    "b=-5\n",
    "c=10\n",
    "\n",
    "x=LinRange(0,7,20);\n",
    "y=a.* x.^2 .+ b.*x .+c;"
   ]
  },
  {
   "cell_type": "code",
   "execution_count": 6,
   "metadata": {},
   "outputs": [
    {
     "data": {
      "image/svg+xml": [
       "<?xml version=\"1.0\" encoding=\"utf-8\"?>\n",
       "<svg xmlns=\"http://www.w3.org/2000/svg\" xmlns:xlink=\"http://www.w3.org/1999/xlink\" width=\"600\" height=\"400\" viewBox=\"0 0 2400 1600\">\n",
       "<defs>\n",
       "  <clipPath id=\"clip930\">\n",
       "    <rect x=\"0\" y=\"0\" width=\"2400\" height=\"1600\"/>\n",
       "  </clipPath>\n",
       "</defs>\n",
       "<path clip-path=\"url(#clip930)\" d=\"\n",
       "M0 1600 L2400 1600 L2400 0 L0 0  Z\n",
       "  \" fill=\"#ffffff\" fill-rule=\"evenodd\" fill-opacity=\"1\"/>\n",
       "<defs>\n",
       "  <clipPath id=\"clip931\">\n",
       "    <rect x=\"480\" y=\"0\" width=\"1681\" height=\"1600\"/>\n",
       "  </clipPath>\n",
       "</defs>\n",
       "<path clip-path=\"url(#clip930)\" d=\"\n",
       "M203.964 1423.18 L2352.76 1423.18 L2352.76 47.2441 L203.964 47.2441  Z\n",
       "  \" fill=\"#ffffff\" fill-rule=\"evenodd\" fill-opacity=\"1\"/>\n",
       "<defs>\n",
       "  <clipPath id=\"clip932\">\n",
       "    <rect x=\"203\" y=\"47\" width=\"2150\" height=\"1377\"/>\n",
       "  </clipPath>\n",
       "</defs>\n",
       "<polyline clip-path=\"url(#clip932)\" style=\"stroke:#000000; stroke-linecap:butt; stroke-linejoin:round; stroke-width:2; stroke-opacity:0.1; fill:none\" points=\"\n",
       "  264.778,1423.18 264.778,47.2441 \n",
       "  \"/>\n",
       "<polyline clip-path=\"url(#clip932)\" style=\"stroke:#000000; stroke-linecap:butt; stroke-linejoin:round; stroke-width:2; stroke-opacity:0.1; fill:none\" points=\"\n",
       "  843.968,1423.18 843.968,47.2441 \n",
       "  \"/>\n",
       "<polyline clip-path=\"url(#clip932)\" style=\"stroke:#000000; stroke-linecap:butt; stroke-linejoin:round; stroke-width:2; stroke-opacity:0.1; fill:none\" points=\"\n",
       "  1423.16,1423.18 1423.16,47.2441 \n",
       "  \"/>\n",
       "<polyline clip-path=\"url(#clip932)\" style=\"stroke:#000000; stroke-linecap:butt; stroke-linejoin:round; stroke-width:2; stroke-opacity:0.1; fill:none\" points=\"\n",
       "  2002.35,1423.18 2002.35,47.2441 \n",
       "  \"/>\n",
       "<polyline clip-path=\"url(#clip930)\" style=\"stroke:#000000; stroke-linecap:butt; stroke-linejoin:round; stroke-width:4; stroke-opacity:1; fill:none\" points=\"\n",
       "  203.964,1423.18 2352.76,1423.18 \n",
       "  \"/>\n",
       "<polyline clip-path=\"url(#clip930)\" style=\"stroke:#000000; stroke-linecap:butt; stroke-linejoin:round; stroke-width:4; stroke-opacity:1; fill:none\" points=\"\n",
       "  264.778,1423.18 264.778,1404.28 \n",
       "  \"/>\n",
       "<polyline clip-path=\"url(#clip930)\" style=\"stroke:#000000; stroke-linecap:butt; stroke-linejoin:round; stroke-width:4; stroke-opacity:1; fill:none\" points=\"\n",
       "  843.968,1423.18 843.968,1404.28 \n",
       "  \"/>\n",
       "<polyline clip-path=\"url(#clip930)\" style=\"stroke:#000000; stroke-linecap:butt; stroke-linejoin:round; stroke-width:4; stroke-opacity:1; fill:none\" points=\"\n",
       "  1423.16,1423.18 1423.16,1404.28 \n",
       "  \"/>\n",
       "<polyline clip-path=\"url(#clip930)\" style=\"stroke:#000000; stroke-linecap:butt; stroke-linejoin:round; stroke-width:4; stroke-opacity:1; fill:none\" points=\"\n",
       "  2002.35,1423.18 2002.35,1404.28 \n",
       "  \"/>\n",
       "<path clip-path=\"url(#clip930)\" d=\"M264.778 1452.37 Q261.167 1452.37 259.339 1455.94 Q257.533 1459.48 257.533 1466.61 Q257.533 1473.71 259.339 1477.28 Q261.167 1480.82 264.778 1480.82 Q268.413 1480.82 270.218 1477.28 Q272.047 1473.71 272.047 1466.61 Q272.047 1459.48 270.218 1455.94 Q268.413 1452.37 264.778 1452.37 M264.778 1448.67 Q270.589 1448.67 273.644 1453.27 Q276.723 1457.86 276.723 1466.61 Q276.723 1475.33 273.644 1479.94 Q270.589 1484.52 264.778 1484.52 Q258.968 1484.52 255.89 1479.94 Q252.834 1475.33 252.834 1466.61 Q252.834 1457.86 255.89 1453.27 Q258.968 1448.67 264.778 1448.67 Z\" fill=\"#000000\" fill-rule=\"evenodd\" fill-opacity=\"1\" /><path clip-path=\"url(#clip930)\" d=\"M838.621 1479.92 L854.94 1479.92 L854.94 1483.85 L832.996 1483.85 L832.996 1479.92 Q835.658 1477.16 840.241 1472.53 Q844.847 1467.88 846.028 1466.54 Q848.273 1464.01 849.153 1462.28 Q850.056 1460.52 850.056 1458.83 Q850.056 1456.07 848.111 1454.34 Q846.19 1452.6 843.088 1452.6 Q840.889 1452.6 838.435 1453.37 Q836.005 1454.13 833.227 1455.68 L833.227 1450.96 Q836.051 1449.82 838.505 1449.25 Q840.959 1448.67 842.996 1448.67 Q848.366 1448.67 851.56 1451.35 Q854.755 1454.04 854.755 1458.53 Q854.755 1460.66 853.945 1462.58 Q853.158 1464.48 851.051 1467.07 Q850.472 1467.74 847.371 1470.96 Q844.269 1474.15 838.621 1479.92 Z\" fill=\"#000000\" fill-rule=\"evenodd\" fill-opacity=\"1\" /><path clip-path=\"url(#clip930)\" d=\"M1426.17 1453.37 L1414.36 1471.81 L1426.17 1471.81 L1426.17 1453.37 M1424.94 1449.29 L1430.82 1449.29 L1430.82 1471.81 L1435.75 1471.81 L1435.75 1475.7 L1430.82 1475.7 L1430.82 1483.85 L1426.17 1483.85 L1426.17 1475.7 L1410.56 1475.7 L1410.56 1471.19 L1424.94 1449.29 Z\" fill=\"#000000\" fill-rule=\"evenodd\" fill-opacity=\"1\" /><path clip-path=\"url(#clip930)\" d=\"M2002.75 1464.71 Q1999.6 1464.71 1997.75 1466.86 Q1995.92 1469.01 1995.92 1472.76 Q1995.92 1476.49 1997.75 1478.67 Q1999.6 1480.82 2002.75 1480.82 Q2005.9 1480.82 2007.73 1478.67 Q2009.58 1476.49 2009.58 1472.76 Q2009.58 1469.01 2007.73 1466.86 Q2005.9 1464.71 2002.75 1464.71 M2012.03 1450.06 L2012.03 1454.31 Q2010.27 1453.48 2008.47 1453.04 Q2006.69 1452.6 2004.93 1452.6 Q2000.3 1452.6 1997.84 1455.73 Q1995.41 1458.85 1995.07 1465.17 Q1996.43 1463.16 1998.49 1462.09 Q2000.55 1461 2003.03 1461 Q2008.24 1461 2011.25 1464.18 Q2014.28 1467.32 2014.28 1472.76 Q2014.28 1478.09 2011.13 1481.31 Q2007.98 1484.52 2002.75 1484.52 Q1996.76 1484.52 1993.58 1479.94 Q1990.41 1475.33 1990.41 1466.61 Q1990.41 1458.41 1994.3 1453.55 Q1998.19 1448.67 2004.74 1448.67 Q2006.5 1448.67 2008.28 1449.01 Q2010.09 1449.36 2012.03 1450.06 Z\" fill=\"#000000\" fill-rule=\"evenodd\" fill-opacity=\"1\" /><path clip-path=\"url(#clip930)\" d=\"M1294.97 1532.4 L1282.08 1549.74 L1295.64 1568.04 L1288.74 1568.04 L1278.36 1554.04 L1267.98 1568.04 L1261.08 1568.04 L1274.92 1549.39 L1262.25 1532.4 L1269.16 1532.4 L1278.61 1545.1 L1288.07 1532.4 L1294.97 1532.4 Z\" fill=\"#000000\" fill-rule=\"evenodd\" fill-opacity=\"1\" /><polyline clip-path=\"url(#clip932)\" style=\"stroke:#000000; stroke-linecap:butt; stroke-linejoin:round; stroke-width:2; stroke-opacity:0.1; fill:none\" points=\"\n",
       "  203.964,1304.49 2352.76,1304.49 \n",
       "  \"/>\n",
       "<polyline clip-path=\"url(#clip932)\" style=\"stroke:#000000; stroke-linecap:butt; stroke-linejoin:round; stroke-width:2; stroke-opacity:0.1; fill:none\" points=\"\n",
       "  203.964,983.881 2352.76,983.881 \n",
       "  \"/>\n",
       "<polyline clip-path=\"url(#clip932)\" style=\"stroke:#000000; stroke-linecap:butt; stroke-linejoin:round; stroke-width:2; stroke-opacity:0.1; fill:none\" points=\"\n",
       "  203.964,663.276 2352.76,663.276 \n",
       "  \"/>\n",
       "<polyline clip-path=\"url(#clip932)\" style=\"stroke:#000000; stroke-linecap:butt; stroke-linejoin:round; stroke-width:2; stroke-opacity:0.1; fill:none\" points=\"\n",
       "  203.964,342.67 2352.76,342.67 \n",
       "  \"/>\n",
       "<polyline clip-path=\"url(#clip930)\" style=\"stroke:#000000; stroke-linecap:butt; stroke-linejoin:round; stroke-width:4; stroke-opacity:1; fill:none\" points=\"\n",
       "  203.964,1423.18 203.964,47.2441 \n",
       "  \"/>\n",
       "<polyline clip-path=\"url(#clip930)\" style=\"stroke:#000000; stroke-linecap:butt; stroke-linejoin:round; stroke-width:4; stroke-opacity:1; fill:none\" points=\"\n",
       "  203.964,1304.49 222.861,1304.49 \n",
       "  \"/>\n",
       "<polyline clip-path=\"url(#clip930)\" style=\"stroke:#000000; stroke-linecap:butt; stroke-linejoin:round; stroke-width:4; stroke-opacity:1; fill:none\" points=\"\n",
       "  203.964,983.881 222.861,983.881 \n",
       "  \"/>\n",
       "<polyline clip-path=\"url(#clip930)\" style=\"stroke:#000000; stroke-linecap:butt; stroke-linejoin:round; stroke-width:4; stroke-opacity:1; fill:none\" points=\"\n",
       "  203.964,663.276 222.861,663.276 \n",
       "  \"/>\n",
       "<polyline clip-path=\"url(#clip930)\" style=\"stroke:#000000; stroke-linecap:butt; stroke-linejoin:round; stroke-width:4; stroke-opacity:1; fill:none\" points=\"\n",
       "  203.964,342.67 222.861,342.67 \n",
       "  \"/>\n",
       "<path clip-path=\"url(#clip930)\" d=\"M147.061 1287.21 L165.417 1287.21 L165.417 1291.14 L151.343 1291.14 L151.343 1299.61 Q152.362 1299.27 153.38 1299.1 Q154.399 1298.92 155.417 1298.92 Q161.204 1298.92 164.584 1302.09 Q167.964 1305.26 167.964 1310.68 Q167.964 1316.26 164.491 1319.36 Q161.019 1322.44 154.7 1322.44 Q152.524 1322.44 150.255 1322.07 Q148.01 1321.7 145.603 1320.96 L145.603 1316.26 Q147.686 1317.39 149.908 1317.95 Q152.13 1318.5 154.607 1318.5 Q158.612 1318.5 160.95 1316.4 Q163.288 1314.29 163.288 1310.68 Q163.288 1307.07 160.95 1304.96 Q158.612 1302.85 154.607 1302.85 Q152.732 1302.85 150.857 1303.27 Q149.005 1303.69 147.061 1304.57 L147.061 1287.21 Z\" fill=\"#000000\" fill-rule=\"evenodd\" fill-opacity=\"1\" /><path clip-path=\"url(#clip930)\" d=\"M116.668 997.226 L124.306 997.226 L124.306 970.86 L115.996 972.527 L115.996 968.268 L124.26 966.601 L128.936 966.601 L128.936 997.226 L136.575 997.226 L136.575 1001.16 L116.668 1001.16 L116.668 997.226 Z\" fill=\"#000000\" fill-rule=\"evenodd\" fill-opacity=\"1\" /><path clip-path=\"url(#clip930)\" d=\"M156.019 969.68 Q152.408 969.68 150.579 973.245 Q148.774 976.786 148.774 983.916 Q148.774 991.022 150.579 994.587 Q152.408 998.129 156.019 998.129 Q159.653 998.129 161.459 994.587 Q163.288 991.022 163.288 983.916 Q163.288 976.786 161.459 973.245 Q159.653 969.68 156.019 969.68 M156.019 965.976 Q161.829 965.976 164.885 970.583 Q167.964 975.166 167.964 983.916 Q167.964 992.643 164.885 997.249 Q161.829 1001.83 156.019 1001.83 Q150.209 1001.83 147.13 997.249 Q144.075 992.643 144.075 983.916 Q144.075 975.166 147.13 970.583 Q150.209 965.976 156.019 965.976 Z\" fill=\"#000000\" fill-rule=\"evenodd\" fill-opacity=\"1\" /><path clip-path=\"url(#clip930)\" d=\"M117.663 676.62 L125.302 676.62 L125.302 650.255 L116.992 651.921 L116.992 647.662 L125.255 645.996 L129.931 645.996 L129.931 676.62 L137.57 676.62 L137.57 680.556 L117.663 680.556 L117.663 676.62 Z\" fill=\"#000000\" fill-rule=\"evenodd\" fill-opacity=\"1\" /><path clip-path=\"url(#clip930)\" d=\"M147.061 645.996 L165.417 645.996 L165.417 649.931 L151.343 649.931 L151.343 658.403 Q152.362 658.056 153.38 657.894 Q154.399 657.708 155.417 657.708 Q161.204 657.708 164.584 660.88 Q167.964 664.051 167.964 669.468 Q167.964 675.046 164.491 678.148 Q161.019 681.227 154.7 681.227 Q152.524 681.227 150.255 680.856 Q148.01 680.486 145.603 679.745 L145.603 675.046 Q147.686 676.181 149.908 676.736 Q152.13 677.292 154.607 677.292 Q158.612 677.292 160.95 675.185 Q163.288 673.079 163.288 669.468 Q163.288 665.857 160.95 663.75 Q158.612 661.644 154.607 661.644 Q152.732 661.644 150.857 662.06 Q149.005 662.477 147.061 663.357 L147.061 645.996 Z\" fill=\"#000000\" fill-rule=\"evenodd\" fill-opacity=\"1\" /><path clip-path=\"url(#clip930)\" d=\"M119.885 356.015 L136.204 356.015 L136.204 359.95 L114.26 359.95 L114.26 356.015 Q116.922 353.26 121.505 348.631 Q126.112 343.978 127.292 342.635 Q129.538 340.112 130.417 338.376 Q131.32 336.617 131.32 334.927 Q131.32 332.172 129.376 330.436 Q127.455 328.7 124.353 328.7 Q122.154 328.7 119.7 329.464 Q117.269 330.228 114.492 331.779 L114.492 327.057 Q117.316 325.922 119.769 325.344 Q122.223 324.765 124.26 324.765 Q129.63 324.765 132.825 327.45 Q136.019 330.135 136.019 334.626 Q136.019 336.756 135.209 338.677 Q134.422 340.575 132.316 343.168 Q131.737 343.839 128.635 347.057 Q125.533 350.251 119.885 356.015 Z\" fill=\"#000000\" fill-rule=\"evenodd\" fill-opacity=\"1\" /><path clip-path=\"url(#clip930)\" d=\"M156.019 328.469 Q152.408 328.469 150.579 332.034 Q148.774 335.575 148.774 342.705 Q148.774 349.811 150.579 353.376 Q152.408 356.918 156.019 356.918 Q159.653 356.918 161.459 353.376 Q163.288 349.811 163.288 342.705 Q163.288 335.575 161.459 332.034 Q159.653 328.469 156.019 328.469 M156.019 324.765 Q161.829 324.765 164.885 329.372 Q167.964 333.955 167.964 342.705 Q167.964 351.432 164.885 356.038 Q161.829 360.621 156.019 360.621 Q150.209 360.621 147.13 356.038 Q144.075 351.432 144.075 342.705 Q144.075 333.955 147.13 329.372 Q150.209 324.765 156.019 324.765 Z\" fill=\"#000000\" fill-rule=\"evenodd\" fill-opacity=\"1\" /><path clip-path=\"url(#clip930)\" d=\"M67.3143 733.525 Q73.68 736.008 75.6216 738.363 Q77.5631 740.718 77.5631 744.665 L77.5631 749.344 L72.6615 749.344 L72.6615 745.906 Q72.6615 743.487 71.5157 742.151 Q70.3699 740.814 66.1048 739.191 L63.4312 738.14 L28.3562 752.559 L28.3562 746.352 L56.238 735.212 L28.3562 724.072 L28.3562 717.865 L67.3143 733.525 Z\" fill=\"#000000\" fill-rule=\"evenodd\" fill-opacity=\"1\" /><polyline clip-path=\"url(#clip932)\" style=\"stroke:#009af9; stroke-linecap:butt; stroke-linejoin:round; stroke-width:4; stroke-opacity:1; fill:none\" points=\"\n",
       "  264.778,983.881 371.471,1093.3 478.164,1185.3 584.857,1259.9 691.55,1317.1 798.242,1356.88 904.935,1379.26 1011.63,1384.24 1118.32,1371.8 1225.01,1341.96 \n",
       "  1331.71,1294.72 1438.4,1230.06 1545.09,1148 1651.78,1048.54 1758.48,931.661 1865.17,797.379 1971.86,645.691 2078.56,476.596 2185.25,290.094 2291.94,86.1857 \n",
       "  \n",
       "  \"/>\n",
       "<path clip-path=\"url(#clip930)\" d=\"\n",
       "M1989.94 196.789 L2281.13 196.789 L2281.13 93.1086 L1989.94 93.1086  Z\n",
       "  \" fill=\"#ffffff\" fill-rule=\"evenodd\" fill-opacity=\"1\"/>\n",
       "<polyline clip-path=\"url(#clip930)\" style=\"stroke:#000000; stroke-linecap:butt; stroke-linejoin:round; stroke-width:4; stroke-opacity:1; fill:none\" points=\"\n",
       "  1989.94,196.789 2281.13,196.789 2281.13,93.1086 1989.94,93.1086 1989.94,196.789 \n",
       "  \"/>\n",
       "<polyline clip-path=\"url(#clip930)\" style=\"stroke:#009af9; stroke-linecap:butt; stroke-linejoin:round; stroke-width:4; stroke-opacity:1; fill:none\" points=\"\n",
       "  2013.82,144.949 2157.07,144.949 \n",
       "  \"/>\n",
       "<path clip-path=\"url(#clip930)\" d=\"M2194.79 164.636 Q2192.99 169.266 2191.27 170.678 Q2189.56 172.09 2186.69 172.09 L2183.29 172.09 L2183.29 168.525 L2185.79 168.525 Q2187.55 168.525 2188.52 167.692 Q2189.49 166.858 2190.67 163.756 L2191.43 161.812 L2180.95 136.303 L2185.46 136.303 L2193.56 156.581 L2201.67 136.303 L2206.18 136.303 L2194.79 164.636 Z\" fill=\"#000000\" fill-rule=\"evenodd\" fill-opacity=\"1\" /><path clip-path=\"url(#clip930)\" d=\"M2213.47 158.293 L2221.11 158.293 L2221.11 131.928 L2212.8 133.595 L2212.8 129.335 L2221.06 127.669 L2225.74 127.669 L2225.74 158.293 L2233.38 158.293 L2233.38 162.229 L2213.47 162.229 L2213.47 158.293 Z\" fill=\"#000000\" fill-rule=\"evenodd\" fill-opacity=\"1\" /></svg>\n"
      ]
     },
     "execution_count": 6,
     "metadata": {},
     "output_type": "execute_result"
    }
   ],
   "source": [
    "plot(x,y)\n",
    "xlabel!(\"x\")\n",
    "ylabel!(\"y\")"
   ]
  },
  {
   "cell_type": "code",
   "execution_count": 12,
   "metadata": {},
   "outputs": [
    {
     "data": {
      "text/plain": [
       "2.5"
      ]
     },
     "execution_count": 12,
     "metadata": {},
     "output_type": "execute_result"
    }
   ],
   "source": [
    "# compute the analytical optimum\n",
    "x_min_analytical=-b/2/a"
   ]
  },
  {
   "cell_type": "code",
   "execution_count": 17,
   "metadata": {},
   "outputs": [
    {
     "name": "stdout",
     "output_type": "stream",
     "text": [
      "\n",
      "******************************************************************************\n",
      "This program contains Ipopt, a library for large-scale nonlinear optimization.\n",
      " Ipopt is released as open source code under the Eclipse Public License (EPL).\n",
      "         For more information visit https://github.com/coin-or/Ipopt\n",
      "******************************************************************************\n",
      "\n",
      "This is Ipopt version 3.13.4, running with linear solver mumps.\n",
      "NOTE: Other linear solvers might be more efficient (see Ipopt documentation).\n",
      "\n",
      "Number of nonzeros in equality constraint Jacobian...:        0\n",
      "Number of nonzeros in inequality constraint Jacobian.:        0\n",
      "Number of nonzeros in Lagrangian Hessian.............:        1\n",
      "\n",
      "Total number of variables............................:        1\n",
      "                     variables with only lower bounds:        0\n",
      "                variables with lower and upper bounds:        0\n",
      "                     variables with only upper bounds:        0\n",
      "Total number of equality constraints.................:        0\n",
      "Total number of inequality constraints...............:        0\n",
      "        inequality constraints with only lower bounds:        0\n",
      "   inequality constraints with lower and upper bounds:        0\n",
      "        inequality constraints with only upper bounds:        0\n",
      "\n",
      "iter    objective    inf_pr   inf_du lg(mu)  ||d||  lg(rg) alpha_du alpha_pr  ls\n",
      "   0  1.0000000e+01 0.00e+00 5.00e+00  -1.0 0.00e+00    -  0.00e+00 0.00e+00   0\n",
      "   1  3.7500000e+00 0.00e+00 0.00e+00  -1.0 2.50e+00    -  1.00e+00 1.00e+00f  1\n",
      "\n",
      "Number of Iterations....: 1\n",
      "\n",
      "                                   (scaled)                 (unscaled)\n",
      "Objective...............:   3.7500000000000000e+00    3.7500000000000000e+00\n",
      "Dual infeasibility......:   0.0000000000000000e+00    0.0000000000000000e+00\n",
      "Constraint violation....:   0.0000000000000000e+00    0.0000000000000000e+00\n",
      "Complementarity.........:   0.0000000000000000e+00    0.0000000000000000e+00\n",
      "Overall NLP error.......:   0.0000000000000000e+00    0.0000000000000000e+00\n",
      "\n",
      "\n",
      "Number of objective function evaluations             = 2\n",
      "Number of objective gradient evaluations             = 2\n",
      "Number of equality constraint evaluations            = 0\n",
      "Number of inequality constraint evaluations          = 0\n",
      "Number of equality constraint Jacobian evaluations   = 0\n",
      "Number of inequality constraint Jacobian evaluations = 0\n",
      "Number of Lagrangian Hessian evaluations             = 1\n",
      "Total CPU secs in IPOPT (w/o function evaluations)   =      0.238\n",
      "Total CPU secs in NLP function evaluations           =      0.039\n",
      "\n",
      "EXIT: Optimal Solution Found.\n"
     ]
    }
   ],
   "source": [
    "# now try with the JuMP non-linear optimization solver\n",
    "m = Model(optimizer_with_attributes(Ipopt.Optimizer))\n",
    "@variable(m,x)\n",
    "@objective(m,Min,a.* x.^2 .+ b.*x .+c)\n",
    "optimize!(m)"
   ]
  },
  {
   "cell_type": "code",
   "execution_count": 18,
   "metadata": {},
   "outputs": [
    {
     "data": {
      "text/plain": [
       "2.5"
      ]
     },
     "execution_count": 18,
     "metadata": {},
     "output_type": "execute_result"
    }
   ],
   "source": [
    "#pull out the value of the \"x\" variable in the optimization\n",
    "x_min_NLP=JuMP.value.(x)"
   ]
  }
 ],
 "metadata": {
  "kernelspec": {
   "display_name": "Julia 1.6.2",
   "language": "julia",
   "name": "julia-1.6"
  },
  "language_info": {
   "file_extension": ".jl",
   "mimetype": "application/julia",
   "name": "julia",
   "version": "1.6.2"
  }
 },
 "nbformat": 4,
 "nbformat_minor": 4
}
